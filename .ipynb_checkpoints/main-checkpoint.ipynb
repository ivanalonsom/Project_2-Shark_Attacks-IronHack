{
 "cells": [
  {
   "cell_type": "code",
   "execution_count": null,
   "metadata": {},
   "outputs": [],
   "source": [
    "# main.ipynb\n",
    "\n",
    "import functions as fn\n",
    "import pandas as pd\n",
    "\n",
    "# Step 1: Download the Excel file from the URL\n",
    "url = \"https://www.sharkattackfile.net/spreadsheets/GSAF5.xls\"\n",
    "fn.download_excel(url, 'GSAF5.xls')\n",
    "\n",
    "# Step 2: Load the Excel file\n",
    "df_sa = fn.load_excel('GSAF5.xls')\n",
    "\n",
    "# Step 3: Rename columns for better clarity and consistency\n",
    "df_sa = fn.rename_columns(df_sa)\n",
    "\n",
    "# Step 4: Clean the 'Fatal' column\n",
    "df_sa = fn.clean_fatal_column(df_sa)\n",
    "\n",
    "# Step 5: Clean and standardize the 'Time' column\n",
    "df_sa = fn.clean_time_column(df_sa)\n",
    "\n",
    "# Step 6: Clean the 'Species' column\n",
    "df_sa = fn.clean_species_column(df_sa)\n",
    "\n",
    "# Step 7: Clean the 'Source' column\n",
    "df_sa = fn.clean_source_column(df_sa)\n",
    "\n",
    "# Step 8: Clean the 'PDF' column\n",
    "df_sa = fn.clean_pdf_column(df_sa)\n",
    "\n",
    "# Step 9: Save the cleaned data back to a new Excel file\n",
    "fn.save_excel(df_sa, 'Cleaned_GSAF5.xlsx')\n",
    "\n",
    "print(\"Data cleaning complete. The cleaned data has been saved to 'Cleaned_GSAF5.xlsx'.\")\n",
    "\n"
   ]
  }
 ],
 "metadata": {
  "kernelspec": {
   "display_name": "Python 3 (ipykernel)",
   "language": "python",
   "name": "python3"
  },
  "language_info": {
   "codemirror_mode": {
    "name": "ipython",
    "version": 3
   },
   "file_extension": ".py",
   "mimetype": "text/x-python",
   "name": "python",
   "nbconvert_exporter": "python",
   "pygments_lexer": "ipython3",
   "version": "3.12.4"
  }
 },
 "nbformat": 4,
 "nbformat_minor": 4
}
